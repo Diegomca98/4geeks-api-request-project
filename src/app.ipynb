{
 "cells": [
  {
   "cell_type": "markdown",
   "metadata": {},
   "source": [
    "# Project - Interacting with an API using Python"
   ]
  },
  {
   "cell_type": "markdown",
   "metadata": {},
   "source": [
    "### | Importing Libraries |"
   ]
  },
  {
   "cell_type": "code",
   "execution_count": 11,
   "metadata": {},
   "outputs": [],
   "source": [
    "import os\n",
    "from sqlalchemy import create_engine\n",
    "import pandas as pd\n",
    "from dotenv import load_dotenv\n",
    "import spotipy\n",
    "from spotipy.oauth2 import SpotifyClientCredentials\n",
    "import matplotlib.pyplot as plt"
   ]
  },
  {
   "cell_type": "markdown",
   "metadata": {},
   "source": [
    "### | Variable Declarations |"
   ]
  },
  {
   "cell_type": "code",
   "execution_count": 12,
   "metadata": {},
   "outputs": [],
   "source": [
    "# load the .env file variables\n",
    "load_dotenv()\n",
    "\n",
    "# VARIABLES\n",
    "c_id = os.environ.get(\"CLIENT_ID\")\n",
    "c_secret = os.environ.get(\"CLIENT_SECRET\")\n",
    "artist_uri = 'spotify:artist:4vGrte8FDu062Ntj0RsPiZ'\n",
    "spfy = spotipy.Spotify(client_credentials_manager=SpotifyClientCredentials())\n",
    "results = spfy.artist_top_tracks(artist_uri)\n",
    "\n",
    "df_dict = {\n",
    "    'Name': [],\n",
    "    'Popularity': [],\n",
    "    'Duration (Mins)': [], ## Minutes\n",
    "    'Artist': []\n",
    "}"
   ]
  },
  {
   "cell_type": "markdown",
   "metadata": {},
   "source": [
    "### | Data Treatment |"
   ]
  },
  {
   "cell_type": "code",
   "execution_count": 13,
   "metadata": {},
   "outputs": [],
   "source": [
    "# Code\n",
    "\n",
    "## Filtering Data to Get Name, Popularity, Duration and Artist Name\n",
    "for i in results['tracks']:\n",
    "    df_dict['Name'].append(i['name'])\n",
    "    df_dict['Popularity'].append(i['popularity'])\n",
    " \n",
    "    if int((i['duration_ms']/60000 % 1) * 60) > 9:\n",
    "        df_dict['Duration (Mins)'].append(str(int(i['duration_ms']/60000)) + ':' + str(int((i['duration_ms']/60000 % 1) * 60)))\n",
    "    else:\n",
    "        df_dict['Duration (Mins)'].append(str(int(i['duration_ms']/60000)) + ':0' + str(int((i['duration_ms']/60000 % 1) * 60)))\n",
    "          \n",
    "    df_dict['Artist'].append(i['artists'][0]['name'])"
   ]
  },
  {
   "cell_type": "markdown",
   "metadata": {},
   "source": [
    "### | DataFrame Creation |"
   ]
  },
  {
   "cell_type": "code",
   "execution_count": 8,
   "metadata": {},
   "outputs": [],
   "source": [
    "df = pd.DataFrame(df_dict)\n",
    "df = df.sort_values(by='Duration (Mins)')"
   ]
  },
  {
   "cell_type": "markdown",
   "metadata": {},
   "source": [
    "### | Scatter Plot Creation |"
   ]
  },
  {
   "cell_type": "code",
   "execution_count": 14,
   "metadata": {},
   "outputs": [
    {
     "data": {
      "image/png": "[encoded data removed]",
      "text/plain": [
       "<Figure size 640x480 with 1 Axes>"
      ]
     },
     "metadata": {},
     "output_type": "display_data"
    }
   ],
   "source": [
    "plt.scatter(df['Duration (Mins)'], df['Popularity'])\n",
    "plt.xlabel('Duration in Minutes')\n",
    "plt.ylabel('Popularity')\n",
    "\n",
    "plt.show()"
   ]
  },
  {
   "cell_type": "markdown",
   "metadata": {},
   "source": [
    "### | Conclusion |"
   ]
  },
  {
   "cell_type": "code",
   "execution_count": 15,
   "metadata": {},
   "outputs": [
    {
     "name": "stdout",
     "output_type": "stream",
     "text": [
      "After visualizing the data in the plot, I don't see any discernible pattern and certainly no real relation between the Duration of the songs and the popularity level the songs hold in the artist top tracks\n"
     ]
    }
   ],
   "source": [
    "print(\"After visualizing the data in the plot, I don't see any discernible pattern and certainly no real relation between the Duration of the songs and the popularity level the songs hold in the artist top tracks\")"
   ]
  }
 ],
 "metadata": {
  "kernelspec": {
   "display_name": ".env",
   "language": "python",
   "name": "python3"
  },
  "language_info": {
   "codemirror_mode": {
    "name": "ipython",
    "version": 3
   },
   "file_extension": ".py",
   "mimetype": "text/x-python",
   "name": "python",
   "nbconvert_exporter": "python",
   "pygments_lexer": "ipython3",
   "version": "3.11.4"
  }
 },
 "nbformat": 4,
 "nbformat_minor": 2
}
